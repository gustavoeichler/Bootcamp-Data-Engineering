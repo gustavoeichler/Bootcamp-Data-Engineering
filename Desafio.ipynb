{
 "cells": [
  {
   "cell_type": "code",
   "execution_count": null,
   "metadata": {},
   "outputs": [],
   "source": [
    "import pandas as pd"
   ]
  },
  {
   "cell_type": "markdown",
   "metadata": {},
   "source": [
    "# Extração da Base de Dados"
   ]
  },
  {
   "cell_type": "code",
   "execution_count": null,
   "metadata": {},
   "outputs": [],
   "source": [
    "DF = pd.read_excel('AdventureWorks.xlsx')"
   ]
  },
  {
   "cell_type": "code",
   "execution_count": null,
   "metadata": {},
   "outputs": [],
   "source": [
    "# Verificar tipos de dados em cada coluna\n",
    "DF.dtypes"
   ]
  },
  {
   "cell_type": "code",
   "execution_count": null,
   "metadata": {},
   "outputs": [],
   "source": [
    "# Verificar os valores das colunas\n",
    "\n",
    "DF.isna().sum()"
   ]
  },
  {
   "cell_type": "code",
   "execution_count": null,
   "metadata": {},
   "outputs": [],
   "source": [
    "DF.describe()"
   ]
  },
  {
   "cell_type": "markdown",
   "metadata": {},
   "source": [
    "# Validação dos Dados"
   ]
  },
  {
   "cell_type": "code",
   "execution_count": null,
   "metadata": {},
   "outputs": [],
   "source": [
    "import pandera as pa"
   ]
  },
  {
   "cell_type": "code",
   "execution_count": null,
   "metadata": {},
   "outputs": [],
   "source": [
    "schema = pa.DataFrameSchema({\n",
    "    'Data Venda':pa.Column(pa.PandasDtype.DateTime),\n",
    "    'Data Envio':pa.Column(pa.PandasDtype.DateTime),\n",
    "    'ID Loja':pa.Column(int),\n",
    "    'ID Produto':pa.Column(int),\n",
    "    'ID Cliente':pa.Column(int),\n",
    "    'No. Venda':pa.Column(pa.PandasDtype.String,),\n",
    "    'Custo Unitário':pa.Column(float),\n",
    "    'Preço Unitário':pa.Column(float),\n",
    "    'Quantidade':pa.Column(int),\n",
    "    'Valor Desconto':pa.Column(float),\n",
    "    'Valor Venda':pa.Column(float),\n",
    "    'Produto':pa.Column(pa.PandasDtype.String),\n",
    "    'Fabricante':pa.Column(pa.PandasDtype.String),\n",
    "    'Marca':pa.Column(pa.PandasDtype.String),\n",
    "    'Classe':pa.Column(pa.PandasDtype.String),\n",
    "    'Cor':pa.Column(pa.PandasDtype.String),\n",
    "})\n"
   ]
  },
  {
   "cell_type": "code",
   "execution_count": null,
   "metadata": {},
   "outputs": [],
   "source": [
    "schema.validate(DF)"
   ]
  },
  {
   "cell_type": "code",
   "execution_count": 128,
   "metadata": {},
   "outputs": [],
   "source": [
    "# Qual o custo por venda?\n",
    "DF['Custo Venda'] = DF['Custo Unitário'].mul(DF['Quantidade'])"
   ]
  },
  {
   "cell_type": "code",
   "execution_count": null,
   "metadata": {},
   "outputs": [],
   "source": [
    "# Qual o faturamento por venda? \n",
    "DF['Faturamento Venda'] = DF['Valor Venda'] - DF['Custo Venda']"
   ]
  },
  {
   "cell_type": "code",
   "execution_count": null,
   "metadata": {},
   "outputs": [],
   "source": [
    "DF"
   ]
  },
  {
   "cell_type": "code",
   "execution_count": null,
   "metadata": {},
   "outputs": [],
   "source": [
    "len(DF['ID Loja'].unique())"
   ]
  },
  {
   "cell_type": "code",
   "execution_count": null,
   "metadata": {},
   "outputs": [],
   "source": [
    "# Quantas lojas estão presentes no dataset?\n",
    "print(f'Existem {len(DF[\"ID Loja\"].unique())} lojas. Os ids são: {DF[\"ID Loja\"].unique()}')\n"
   ]
  },
  {
   "cell_type": "code",
   "execution_count": null,
   "metadata": {},
   "outputs": [],
   "source": [
    "# Quais produtos estão presentes no dataset?\n",
    "print(f'Existem {len(DF[\"Produto\"].unique())} Produtos. Os produtos são: {(DF[\"Produto\"].unique())}')"
   ]
  },
  {
   "cell_type": "code",
   "execution_count": null,
   "metadata": {},
   "outputs": [],
   "source": [
    "# Criando a coluna de Diferença entre a data da venda e data do envio.\n",
    "DF['Delta_Dias'] = (DF['Data Envio']-DF['Data Venda']).dt.days"
   ]
  },
  {
   "cell_type": "code",
   "execution_count": null,
   "metadata": {},
   "outputs": [],
   "source": [
    "# Qual das lojas tem a maior média entre a data da venda e data de envio?\n",
    "DF.groupby(['ID Loja'])['Delta_Dias'].mean().sort_values(ascending=False)"
   ]
  },
  {
   "cell_type": "code",
   "execution_count": null,
   "metadata": {},
   "outputs": [],
   "source": [
    "import matplotlib.pyplot as plt\n",
    "plt.rcParams[\"figure.figsize\"] = [15, 6]\n",
    "plt.rcParams[\"figure.autolayout\"] = True\n",
    "import numpy as np\n",
    "import seaborn as sns\n",
    "sns.set()\n",
    "medianprops = dict( linewidth=2.5,color='orange')\n",
    "i=0\n",
    "for loja in DF['ID Loja'].unique():\n",
    "\n",
    "    filtro = DF['ID Loja'] == loja\n",
    "    plt.boxplot(DF.loc[filtro]['Delta_Dias'],labels=[f'Loja {loja}'],positions=[i],widths=0.25,boxprops=dict(linewidth=3),medianprops=medianprops)\n",
    "    i+=1\n",
    "plt.title('Média de dias entre a venda e o envio')\n",
    "plt.grid(True,'major')\n",
    "plt.show() "
   ]
  },
  {
   "cell_type": "code",
   "execution_count": null,
   "metadata": {},
   "outputs": [],
   "source": [
    "# Qual o trimestre em que a venda foi realizada?\n",
    "DF['Trimestre'] = DF['Data Venda'].dt.quarter"
   ]
  },
  {
   "cell_type": "code",
   "execution_count": null,
   "metadata": {},
   "outputs": [],
   "source": [
    "filtro = DF['Data Venda'].dt.year==2009\n",
    "y=DF.loc[filtro].groupby('Trimestre')['Faturamento Venda'].sum()\n",
    "plt.bar(x=y.index+4,height=y,label='2009')\n",
    "filtro = DF['Data Venda'].dt.year==2008\n",
    "y=DF.loc[filtro].groupby('Trimestre')['Faturamento Venda'].sum()\n",
    "plt.bar(x=y.index,height=y,label='2008')\n",
    "plt.xticks([1,2,3,4,5,6,7,8],['2008/1','2008/2','2008/3','2008/4','2009/1','2009/2','2009/3','2009/4'])\n",
    "plt.legend()\n",
    "plt.title('Total de Faturamento por Trimestre')\n"
   ]
  },
  {
   "cell_type": "code",
   "execution_count": null,
   "metadata": {},
   "outputs": [],
   "source": [
    "# Quantos Clientes cada loja atendeu por ano?\n",
    "filtro = DF['Data Venda'].dt.year==2009\n",
    "y=DF.loc[filtro].groupby('ID Loja')['ID Cliente'].count()\n",
    "\n",
    "fig, axs = plt.subplots(2,sharex=True)\n",
    "fig.suptitle('Evolução de clientes por Trimestre em cada loja')\n",
    "filtro = DF['Data Venda'].dt.year==2008\n",
    "y=DF.loc[filtro].groupby(['Trimestre','ID Loja'])['ID Cliente'].count().reset_index()\n",
    "for i in y['ID Loja'].unique():\n",
    "    filtro = y['ID Loja'] == i\n",
    "    axs[0].plot(y.loc[filtro]['Trimestre'],y.loc[filtro]['ID Cliente'],label=f'Loja {i}')\n",
    "filtro = DF['Data Venda'].dt.year==2009\n",
    "y=DF.loc[filtro].groupby(['Trimestre','ID Loja'])['ID Cliente'].count().reset_index()\n",
    "for i in y['ID Loja'].unique():\n",
    "    filtro = y['ID Loja'] == i\n",
    "    axs[1].plot(y.loc[filtro]['Trimestre'],y.loc[filtro]['ID Cliente'],label=f'Loja {i}')    \n",
    "plt.xticks([1,2,3,4])\n",
    "axs[0].set_title('Ano 2008')\n",
    "axs[1].set_title('Ano 2009')\n",
    "plt.legend()"
   ]
  }
 ],
 "metadata": {
  "interpreter": {
   "hash": "ffa7516ed6f29c8ec66f5fe36abdbb00b5a0b396b200a29e7dab09afceb1c3a9"
  },
  "kernelspec": {
   "display_name": "Python 3.9.9 64-bit (windows store)",
   "language": "python",
   "name": "python3"
  },
  "language_info": {
   "codemirror_mode": {
    "name": "ipython",
    "version": 3
   },
   "file_extension": ".py",
   "mimetype": "text/x-python",
   "name": "python",
   "nbconvert_exporter": "python",
   "pygments_lexer": "ipython3",
   "version": "3.9.9"
  },
  "orig_nbformat": 4
 },
 "nbformat": 4,
 "nbformat_minor": 2
}
